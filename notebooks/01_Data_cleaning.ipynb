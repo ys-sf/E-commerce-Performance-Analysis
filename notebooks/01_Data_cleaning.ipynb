{
  "cells": [
    {
      "cell_type": "code",
      "execution_count": 1,
      "metadata": {
        "id": "-l4bfSyEWEvu"
      },
      "outputs": [],
      "source": [
        "import pandas as pd\n",
        "from sklearn.preprocessing import MinMaxScaler"
      ]
    },
    {
      "cell_type": "code",
      "execution_count": null,
      "metadata": {
        "colab": {
          "base_uri": "https://localhost:8080/"
        },
        "id": "vKR8e4VYWHm8",
        "outputId": "b83586d4-f66f-43a2-d43a-98f846e7f6d7"
      },
      "outputs": [],
      "source": [
        "\n",
        "ecommerce_data = pd.read_csv(\"/Users/yssf/Desktop/E-Commerce-Performance-Analysis-main/data/e-commerce-dataset.csv\")\n",
        "clickstream_data = pd.read_csv(\"/Users/yssf/Desktop/E-Commerce-Performance-Analysis-main/data/e-commerce_clickstream_transactions.csv\")\n",
        "\n"
      ]
    },
    {
      "cell_type": "code",
      "execution_count": null,
      "metadata": {
        "colab": {
          "base_uri": "https://localhost:8080/"
        },
        "id": "wCs3iDZfWjsF",
        "outputId": "6d2aa096-f3f6-4070-8ac4-dca3cfe0e529"
      },
      "outputs": [
        {
          "name": "stdout",
          "output_type": "stream",
          "text": [
            "   UserID  SessionID                   Timestamp     EventType  ProductID  \\\n",
            "0       1          1  2024-07-07 18:00:26.959902     page_view        NaN   \n",
            "1       1          1  2024-03-05 22:01:00.072000     page_view        NaN   \n",
            "2       1          1  2024-03-23 22:08:10.568453  product_view  prod_8199   \n",
            "3       1          1  2024-03-12 00:32:05.495638   add_to_cart  prod_4112   \n",
            "4       1          1  2024-02-25 22:43:01.318876   add_to_cart  prod_3354   \n",
            "\n",
            "   Amount Outcome  \n",
            "0     NaN     NaN  \n",
            "1     NaN     NaN  \n",
            "2     NaN     NaN  \n",
            "3     NaN     NaN  \n",
            "4     NaN     NaN  \n"
          ]
        }
      ],
      "source": [
        "print(clickstream_data.head())"
      ]
    },
    {
      "cell_type": "code",
      "execution_count": null,
      "metadata": {
        "colab": {
          "base_uri": "https://localhost:8080/"
        },
        "id": "x5r-k3SsW25y",
        "outputId": "2e25f891-1967-49ea-999d-36640dfdb139"
      },
      "outputs": [
        {
          "name": "stdout",
          "output_type": "stream",
          "text": [
            "   Customer ID  Age  Gender Location  Annual Income  \\\n",
            "0         1001   25  Female   City D          45000   \n",
            "1         1001   28  Female   City D          52000   \n",
            "2         1001   28  Female   City D          65000   \n",
            "3         1001   45  Female   City D          70000   \n",
            "4         1002   34    Male   City E          45000   \n",
            "\n",
            "                                    Purchase History  \\\n",
            "0  [{\"Date\": \"2022-03-05\", \"Category\": \"Clothing\"...   \n",
            "1  [{\"Product Category\": \"Clothing\", \"Purchase Da...   \n",
            "2  [{\"Product Category\": \"Electronics\", \"Purchase...   \n",
            "3  {'Purchase Date': '2022-08-15', 'Product Categ...   \n",
            "4  {'Purchase Date': '2022-07-25', 'Product Categ...   \n",
            "\n",
            "                                    Browsing History  \\\n",
            "0  [{\"Timestamp\": \"2022-03-10T14:30:00Z\"}, {\"Time...   \n",
            "1  [{\"Product Category\": \"Home & Garden\", \"Timest...   \n",
            "2  [{\"Product Category\": \"Clothing\", \"Timestamp\":...   \n",
            "3               {'Timestamp': '2022-09-03 14:30:00'}   \n",
            "4               {'Timestamp': '2022-08-10 17:15:00'}   \n",
            "\n",
            "                                     Product Reviews  Time on Site  \n",
            "0  Great pair of jeans, very comfortable. Rating:...         32.50  \n",
            "1                            Great customer service!        123.45  \n",
            "2  Great electronics. The sound quality is excell...        125.60  \n",
            "3  {\"Product 1\": {\"Rating\": 4, \"Review\": \"Great e...        327.60  \n",
            "4  {\"Product 1\": {\"Rating\": 3, \"Review\": \"Good pr...        214.90  \n"
          ]
        }
      ],
      "source": [
        "print(ecommerce_data.head())"
      ]
    },
    {
      "cell_type": "code",
      "execution_count": null,
      "metadata": {
        "colab": {
          "base_uri": "https://localhost:8080/"
        },
        "id": "MNjLWnpsXNKB",
        "outputId": "53137557-b428-4baa-9628-bc7e6d964a65"
      },
      "outputs": [
        {
          "name": "stdout",
          "output_type": "stream",
          "text": [
            "Customer ID         0\n",
            "Age                 0\n",
            "Gender              0\n",
            "Location            0\n",
            "Annual Income       0\n",
            "Purchase History    0\n",
            "Browsing History    0\n",
            "Product Reviews     0\n",
            "Time on Site        0\n",
            "dtype: int64\n"
          ]
        }
      ],
      "source": [
        "print(ecommerce_data.isnull().sum())"
      ]
    },
    {
      "cell_type": "code",
      "execution_count": null,
      "metadata": {
        "colab": {
          "base_uri": "https://localhost:8080/"
        },
        "id": "O9ApOBbIXQLT",
        "outputId": "004f410e-1c95-45a5-d089-117704f1d876"
      },
      "outputs": [
        {
          "name": "stdout",
          "output_type": "stream",
          "text": [
            "UserID           0\n",
            "SessionID        0\n",
            "Timestamp        0\n",
            "EventType        0\n",
            "ProductID    42704\n",
            "Amount       64135\n",
            "Outcome      64135\n",
            "dtype: int64\n"
          ]
        }
      ],
      "source": [
        "print(clickstream_data.isnull().sum())"
      ]
    },
    {
      "cell_type": "code",
      "execution_count": null,
      "metadata": {
        "id": "b3q1Z2sOXRqP"
      },
      "outputs": [],
      "source": [
        "ecommerce_data.dropna(inplace=True)"
      ]
    },
    {
      "cell_type": "code",
      "execution_count": null,
      "metadata": {
        "colab": {
          "base_uri": "https://localhost:8080/"
        },
        "id": "u6-y4LUxXUPl",
        "outputId": "512edf82-bb51-4474-e794-3a1fd0120cbe"
      },
      "outputs": [
        {
          "name": "stdout",
          "output_type": "stream",
          "text": [
            "0\n"
          ]
        }
      ],
      "source": [
        "print(ecommerce_data.duplicated().sum())"
      ]
    },
    {
      "cell_type": "code",
      "execution_count": null,
      "metadata": {
        "colab": {
          "base_uri": "https://localhost:8080/"
        },
        "id": "iFLxLLfUXWWM",
        "outputId": "a20cb285-957c-4b3d-c414-7e8aa0f6d767"
      },
      "outputs": [
        {
          "name": "stdout",
          "output_type": "stream",
          "text": [
            "0\n"
          ]
        }
      ],
      "source": [
        "print(clickstream_data.duplicated().sum())"
      ]
    },
    {
      "cell_type": "code",
      "execution_count": null,
      "metadata": {
        "colab": {
          "base_uri": "https://localhost:8080/"
        },
        "id": "xGxQi22jXx_G",
        "outputId": "07787450-2964-4665-c11a-29824be682a5"
      },
      "outputs": [
        {
          "name": "stdout",
          "output_type": "stream",
          "text": [
            "Customer ID           int64\n",
            "Age                   int64\n",
            "Gender               object\n",
            "Location             object\n",
            "Annual Income         int64\n",
            "Purchase History     object\n",
            "Browsing History     object\n",
            "Product Reviews      object\n",
            "Time on Site        float64\n",
            "dtype: object\n"
          ]
        }
      ],
      "source": [
        "print(ecommerce_data.dtypes)"
      ]
    },
    {
      "cell_type": "code",
      "execution_count": null,
      "metadata": {
        "colab": {
          "base_uri": "https://localhost:8080/"
        },
        "id": "pz3BF5a2X0qo",
        "outputId": "b242c07e-a8f6-4737-f598-772c239acbb4"
      },
      "outputs": [
        {
          "name": "stdout",
          "output_type": "stream",
          "text": [
            "UserID         int64\n",
            "SessionID      int64\n",
            "Timestamp     object\n",
            "EventType     object\n",
            "ProductID     object\n",
            "Amount       float64\n",
            "Outcome       object\n",
            "dtype: object\n"
          ]
        }
      ],
      "source": [
        "print(clickstream_data.dtypes)"
      ]
    },
    {
      "cell_type": "code",
      "execution_count": null,
      "metadata": {
        "id": "Amc8Ph1UX2JJ"
      },
      "outputs": [],
      "source": [
        "import pandas as pd\n",
        "\n",
        "ecommerce_data = pd.read_csv(\"/Users/yssf/Desktop/E-Commerce-Performance-Analysis-main/data/e-commerce-dataset.csv\")\n",
        "\n",
        "ecommerce_data.to_csv('/Users/yssf/Desktop/E-Commerce-Performance-Analysis-main/data/cleaned_ecommerce_data.csv', index=False)"
      ]
    },
    {
      "cell_type": "code",
      "execution_count": null,
      "metadata": {
        "id": "t9Du0StdX5r6"
      },
      "outputs": [],
      "source": [
        "clickstream_data = pd.read_csv(\"/Users/yssf/Desktop/E-Commerce-Performance-Analysis-main/data/e-commerce_clickstream_transactions.csv\")\n",
        "clickstream_data.to_csv('/Users/yssf/Desktop/E-Commerce-Performance-Analysis-main/data/cleaned_clickstream_data.csv', index=False)"
      ]
    }
  ],
  "metadata": {
    "colab": {
      "authorship_tag": "ABX9TyNsHa5Hwla8XG3XYiTcNE9W",
      "include_colab_link": true,
      "provenance": []
    },
    "kernelspec": {
      "display_name": "Python 3",
      "name": "python3"
    },
    "language_info": {
      "codemirror_mode": {
        "name": "ipython",
        "version": 3
      },
      "file_extension": ".py",
      "mimetype": "text/x-python",
      "name": "python",
      "nbconvert_exporter": "python",
      "pygments_lexer": "ipython3",
      "version": "3.9.6"
    }
  },
  "nbformat": 4,
  "nbformat_minor": 0
}
