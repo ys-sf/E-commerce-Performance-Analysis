{
  "cells": [
    {
      "cell_type": "code",
      "execution_count": 13,
      "metadata": {
        "id": "5hfvNlTxZPlG"
      },
      "outputs": [],
      "source": [
        "import pandas as pd"
      ]
    },
    {
      "cell_type": "code",
      "execution_count": 14,
      "metadata": {
        "colab": {
          "base_uri": "https://localhost:8080/"
        },
        "id": "qTSAXHluZbf8",
        "outputId": "7d1b4107-65bc-4d61-c241-2abbf95eea09"
      },
      "outputs": [],
      "source": [
        "\n",
        "ecommerce_data = pd.read_csv(\"/Users/yssf/Desktop/E-Commerce-Performance-Analysis-main/data/e-commerce-dataset.csv\")\n",
        "clickstream_data = pd.read_csv(\"/Users/yssf/Desktop/E-Commerce-Performance-Analysis-main/data/e-commerce_clickstream_transactions.csv\")\n",
        "\n"
      ]
    },
    {
      "cell_type": "code",
      "execution_count": 15,
      "metadata": {
        "colab": {
          "base_uri": "https://localhost:8080/"
        },
        "id": "jb1KHfuGZzhY",
        "outputId": "d3c87c80-29e0-4976-e363-052ece37c46e"
      },
      "outputs": [
        {
          "name": "stdout",
          "output_type": "stream",
          "text": [
            "Index(['UserID', 'SessionID', 'Timestamp', 'EventType', 'ProductID', 'Amount',\n",
            "       'Outcome'],\n",
            "      dtype='object')\n"
          ]
        }
      ],
      "source": [
        "print(clickstream_data.columns)\n"
      ]
    },
    {
      "cell_type": "code",
      "execution_count": 16,
      "metadata": {
        "id": "JFYoPObIabM-"
      },
      "outputs": [],
      "source": [
        "ecommerce_data.columns = ecommerce_data.columns.str.strip()\n",
        "clickstream_data.columns = clickstream_data.columns.str.strip()"
      ]
    },
    {
      "cell_type": "code",
      "execution_count": 36,
      "metadata": {
        "id": "Rw0Y6MokZ8l2"
      },
      "outputs": [
        {
          "name": "stdout",
          "output_type": "stream",
          "text": [
            "Ecommerce columns: ['Customer ID', 'Age', 'Gender', 'Location', 'Annual Income', 'Purchase History', 'Browsing History', 'Product Reviews', 'Time on Site']\n",
            "Clickstream columns: ['UserID', 'SessionID', 'Timestamp', 'EventType', 'ProductID', 'Amount', 'Outcome']\n",
            "Colonne 'UserID' existe dans ecommerce_data: False\n",
            "Colonne 'Customer ID' existe dans clickstream_data: False\n",
            "Colonnes potentiellement similaires dans ecommerce_data: ['Customer ID']\n",
            "Colonnes potentiellement similaires dans clickstream_data: ['UserID', 'SessionID', 'ProductID']\n"
          ]
        }
      ],
      "source": [
        "# D'abord, vérifier quelles colonnes sont réellement disponibles\n",
        "print(\"Ecommerce columns:\", list(ecommerce_data.columns))\n",
        "print(\"Clickstream columns:\", list(clickstream_data.columns))\n",
        "\n",
        "# Vérifier si UserID existe dans ecommerce_data et Customer ID existe dans clickstream_data\n",
        "if 'UserID' in ecommerce_data.columns and 'Customer ID' in clickstream_data.columns:\n",
        "    # Si les deux colonnes existent, effectuer la fusion\n",
        "    merged_data = pd.merge(\n",
        "        ecommerce_data, \n",
        "        clickstream_data, \n",
        "        left_on='UserID', \n",
        "        right_on='Customer ID', \n",
        "        how='inner'\n",
        "    )\n",
        "    print(\"Fusion réussie, shape:\", merged_data.shape)\n",
        "else:\n",
        "    # Si l'une des colonnes n'existe pas, afficher des informations plus détaillées\n",
        "    print(\"Colonne 'UserID' existe dans ecommerce_data:\", 'UserID' in ecommerce_data.columns)\n",
        "    print(\"Colonne 'Customer ID' existe dans clickstream_data:\", 'Customer ID' in clickstream_data.columns)\n",
        "    \n",
        "    # Vérifier les noms de colonnes similaires (sensibilité à la casse ou problèmes d'espacement)\n",
        "    print(\"Colonnes potentiellement similaires dans ecommerce_data:\", \n",
        "          [col for col in ecommerce_data.columns if 'user' in col.lower() or 'id' in col.lower()])\n",
        "    print(\"Colonnes potentiellement similaires dans clickstream_data:\", \n",
        "          [col for col in clickstream_data.columns if 'customer' in col.lower() or 'id' in col.lower()])"
      ]
    },
    {
      "cell_type": "code",
      "execution_count": 32,
      "metadata": {
        "id": "gUYvCczzaDUi"
      },
      "outputs": [
        {
          "name": "stdout",
          "output_type": "stream",
          "text": [
            "Clickstream columns: ['UserID', 'SessionID', 'Timestamp', 'EventType', 'ProductID', 'Amount', 'Outcome']\n",
            "Ecommerce columns: ['Customer ID', 'Age', 'Gender', 'Location', 'Annual Income', 'Purchase History', 'Browsing History', 'Product Reviews', 'Time on Site']\n",
            "Column 'Customer ID' exists in clickstream_data: False\n",
            "Column 'UserID' exists in ecommerce_data: False\n",
            "Potential similar columns in clickstream_data: ['UserID', 'SessionID', 'ProductID']\n",
            "Potential similar columns in ecommerce_data: ['Customer ID']\n"
          ]
        }
      ],
      "source": [
        "# First, check what columns are actually available\n",
        "print(\"Clickstream columns:\", list(clickstream_data.columns))\n",
        "print(\"Ecommerce columns:\", list(ecommerce_data.columns))\n",
        "\n",
        "# Check if UserID exists in ecommerce_data and Customer ID exists in clickstream_data\n",
        "if 'Customer ID' in clickstream_data.columns and 'UserID' in ecommerce_data.columns:\n",
        "    # If both columns exist, perform the merge\n",
        "    merged_data = pd.merge(\n",
        "        clickstream_data, \n",
        "        ecommerce_data, \n",
        "        left_on='Customer ID', \n",
        "        right_on='UserID', \n",
        "        how='inner'\n",
        "    )\n",
        "else:\n",
        "    # If one of the columns doesn't exist, print more detailed information\n",
        "    print(\"Column 'Customer ID' exists in clickstream_data:\", 'Customer ID' in clickstream_data.columns)\n",
        "    print(\"Column 'UserID' exists in ecommerce_data:\", 'UserID' in ecommerce_data.columns)\n",
        "    \n",
        "    # Check for similar column names (case sensitivity or spacing issues)\n",
        "    print(\"Potential similar columns in clickstream_data:\", [col for col in clickstream_data.columns if 'customer' in col.lower() or 'id' in col.lower()])\n",
        "    print(\"Potential similar columns in ecommerce_data:\", [col for col in ecommerce_data.columns if 'user' in col.lower() or 'id' in col.lower()])"
      ]
    },
    {
      "cell_type": "code",
      "execution_count": 40,
      "metadata": {
        "colab": {
          "base_uri": "https://localhost:8080/"
        },
        "id": "zhZPS_eaamfr",
        "outputId": "67aabede-4df3-4c64-e9be-8659a96b2cb4"
      },
      "outputs": [
        {
          "name": "stdout",
          "output_type": "stream",
          "text": [
            "Index(['UserID', 'SessionID', 'Timestamp', 'EventType', 'ProductID', 'Amount',\n",
            "       'Outcome'],\n",
            "      dtype='object')\n"
          ]
        }
      ],
      "source": [
        "print(clickstream_data.columns)\n"
      ]
    },
    {
      "cell_type": "code",
      "execution_count": 41,
      "metadata": {
        "id": "zM4FCGZ1azsX"
      },
      "outputs": [],
      "source": [
        "clickstream_data.columns = clickstream_data.columns.str.strip()\n",
        "ecommerce_data.columns = ecommerce_data.columns.str.strip()"
      ]
    }
  ],
  "metadata": {
    "colab": {
      "authorship_tag": "ABX9TyPacTFuQ+nxHwjowwDbOGzO",
      "include_colab_link": true,
      "provenance": []
    },
    "kernelspec": {
      "display_name": "Python 3",
      "name": "python3"
    },
    "language_info": {
      "name": "python",
      "version": "3.9.6"
    }
  },
  "nbformat": 4,
  "nbformat_minor": 0
}
